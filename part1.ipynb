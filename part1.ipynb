{
 "cells": [
  {
   "cell_type": "code",
   "execution_count": 1,
   "id": "7271c853-5896-4375-91ea-d5c8cc70eeae",
   "metadata": {},
   "outputs": [
    {
     "name": "stdout",
     "output_type": "stream",
     "text": [
      "this is my love\n"
     ]
    }
   ],
   "source": [
    "print(\"this is my love\")"
   ]
  },
  {
   "cell_type": "code",
   "execution_count": 2,
   "id": "480ca32a-01c5-4134-8ae8-d1ae619cc514",
   "metadata": {},
   "outputs": [],
   "source": [
    "l=[2,3,4,5,6]"
   ]
  },
  {
   "cell_type": "code",
   "execution_count": 3,
   "id": "7323f441-ad5b-44c5-b379-ef52f73cdf6b",
   "metadata": {},
   "outputs": [
    {
     "data": {
      "text/plain": [
       "5"
      ]
     },
     "execution_count": 3,
     "metadata": {},
     "output_type": "execute_result"
    }
   ],
   "source": [
    "len(l)"
   ]
  },
  {
   "cell_type": "code",
   "execution_count": 4,
   "id": "02ac5956-a69b-4192-804f-3c106c2d2bf1",
   "metadata": {},
   "outputs": [
    {
     "data": {
      "text/plain": [
       "list"
      ]
     },
     "execution_count": 4,
     "metadata": {},
     "output_type": "execute_result"
    }
   ],
   "source": [
    "type(l)"
   ]
  },
  {
   "cell_type": "code",
   "execution_count": 5,
   "id": "7cbb3775-deb5-47b0-b629-e27d367bdc17",
   "metadata": {},
   "outputs": [],
   "source": [
    "def test():\n",
    "    pass"
   ]
  },
  {
   "cell_type": "code",
   "execution_count": 6,
   "id": "65935359-df80-4ccc-ada2-351d07105466",
   "metadata": {},
   "outputs": [],
   "source": [
    "def test1():\n",
    "    print(\"this is my first love\")"
   ]
  },
  {
   "cell_type": "code",
   "execution_count": 7,
   "id": "3bf5ecaf-698d-4d33-af75-943f67f0fe14",
   "metadata": {},
   "outputs": [
    {
     "name": "stdout",
     "output_type": "stream",
     "text": [
      "this is my first love\n"
     ]
    }
   ],
   "source": [
    "test1()"
   ]
  },
  {
   "cell_type": "code",
   "execution_count": 8,
   "id": "8ade672e-6720-4730-b8f4-ae7dd90e7fdd",
   "metadata": {},
   "outputs": [],
   "source": [
    "def test2():\n",
    "    return \"this is my first\""
   ]
  },
  {
   "cell_type": "code",
   "execution_count": 9,
   "id": "c649f26d-84c0-43ca-b8dd-7efe6dd199e8",
   "metadata": {},
   "outputs": [
    {
     "data": {
      "text/plain": [
       "'this is my first'"
      ]
     },
     "execution_count": 9,
     "metadata": {},
     "output_type": "execute_result"
    }
   ],
   "source": [
    "test2()"
   ]
  },
  {
   "cell_type": "code",
   "execution_count": 11,
   "id": "16529d8f-d045-4e0c-af42-3bacad0f8334",
   "metadata": {},
   "outputs": [
    {
     "data": {
      "text/plain": [
       "'this is my first Rakesh'"
      ]
     },
     "execution_count": 11,
     "metadata": {},
     "output_type": "execute_result"
    }
   ],
   "source": [
    "test2() + \" Rakesh\""
   ]
  },
  {
   "cell_type": "code",
   "execution_count": 12,
   "id": "02be8658-92f8-4362-bb87-d537ae36d7b5",
   "metadata": {},
   "outputs": [],
   "source": [
    "def test3() :\n",
    "    return \"sudh\",23,34,.45,[3,4,56,6]"
   ]
  },
  {
   "cell_type": "code",
   "execution_count": 13,
   "id": "9e0ffd93-a110-4af7-89f5-5e8bfff88e18",
   "metadata": {},
   "outputs": [
    {
     "data": {
      "text/plain": [
       "('sudh', 23, 34, 0.45, [3, 4, 56, 6])"
      ]
     },
     "execution_count": 13,
     "metadata": {},
     "output_type": "execute_result"
    }
   ],
   "source": [
    "test3()"
   ]
  },
  {
   "cell_type": "code",
   "execution_count": 14,
   "id": "7db997d0-ebb6-4121-930e-6ff131c31567",
   "metadata": {},
   "outputs": [],
   "source": [
    "a,b,c,d,e = test3()"
   ]
  },
  {
   "cell_type": "code",
   "execution_count": 15,
   "id": "907e90b7-bb29-4322-995e-7a6c8ae1ec96",
   "metadata": {},
   "outputs": [
    {
     "data": {
      "text/plain": [
       "'sudh'"
      ]
     },
     "execution_count": 15,
     "metadata": {},
     "output_type": "execute_result"
    }
   ],
   "source": [
    "a"
   ]
  },
  {
   "cell_type": "code",
   "execution_count": 16,
   "id": "6fe38856-9d69-4247-8f30-415a2d3e71fb",
   "metadata": {},
   "outputs": [
    {
     "data": {
      "text/plain": [
       "23"
      ]
     },
     "execution_count": 16,
     "metadata": {},
     "output_type": "execute_result"
    }
   ],
   "source": [
    "b"
   ]
  },
  {
   "cell_type": "code",
   "execution_count": 17,
   "id": "af354047-b249-4c3b-8937-79b457db9f06",
   "metadata": {},
   "outputs": [
    {
     "data": {
      "text/plain": [
       "34"
      ]
     },
     "execution_count": 17,
     "metadata": {},
     "output_type": "execute_result"
    }
   ],
   "source": [
    "c"
   ]
  },
  {
   "cell_type": "code",
   "execution_count": 18,
   "id": "e287c59c-ac2a-42a0-ab85-70abd0929ed0",
   "metadata": {},
   "outputs": [
    {
     "data": {
      "text/plain": [
       "0.45"
      ]
     },
     "execution_count": 18,
     "metadata": {},
     "output_type": "execute_result"
    }
   ],
   "source": [
    "d"
   ]
  },
  {
   "cell_type": "code",
   "execution_count": 19,
   "id": "e47dcd80-b12b-4369-a2f8-0ba60a2c017d",
   "metadata": {},
   "outputs": [
    {
     "data": {
      "text/plain": [
       "[3, 4, 56, 6]"
      ]
     },
     "execution_count": 19,
     "metadata": {},
     "output_type": "execute_result"
    }
   ],
   "source": [
    "e"
   ]
  },
  {
   "cell_type": "code",
   "execution_count": 20,
   "id": "f4a9aeed-3898-40be-a672-ad8e4cddac08",
   "metadata": {},
   "outputs": [],
   "source": [
    "a,b = 1,5"
   ]
  },
  {
   "cell_type": "code",
   "execution_count": 21,
   "id": "b577f060-ca3c-40ac-a1d0-32b98eade279",
   "metadata": {},
   "outputs": [
    {
     "data": {
      "text/plain": [
       "1"
      ]
     },
     "execution_count": 21,
     "metadata": {},
     "output_type": "execute_result"
    }
   ],
   "source": [
    "a"
   ]
  },
  {
   "cell_type": "code",
   "execution_count": 22,
   "id": "15c46f2e-b78c-4219-bf24-921f4eee0178",
   "metadata": {},
   "outputs": [
    {
     "data": {
      "text/plain": [
       "5"
      ]
     },
     "execution_count": 22,
     "metadata": {},
     "output_type": "execute_result"
    }
   ],
   "source": [
    "b"
   ]
  },
  {
   "cell_type": "code",
   "execution_count": 26,
   "id": "d5c16833-88c0-4b96-a190-319d427acafb",
   "metadata": {},
   "outputs": [],
   "source": [
    "def test4():\n",
    "    a = 5+6/7\n",
    "    return a"
   ]
  },
  {
   "cell_type": "code",
   "execution_count": 27,
   "id": "c1f3fa84-a26d-4537-be1d-9972fcc059ed",
   "metadata": {},
   "outputs": [
    {
     "data": {
      "text/plain": [
       "5.857142857142857"
      ]
     },
     "execution_count": 27,
     "metadata": {},
     "output_type": "execute_result"
    }
   ],
   "source": [
    "test4()"
   ]
  },
  {
   "cell_type": "code",
   "execution_count": 28,
   "id": "39644523-84f5-4c47-8762-84b20a6b5c41",
   "metadata": {},
   "outputs": [],
   "source": [
    "def test5(a,b,c):\n",
    "    d = a+b/7\n",
    "    return d"
   ]
  },
  {
   "cell_type": "code",
   "execution_count": 30,
   "id": "2ae8d480-5be9-47d1-97e1-8a81b7b3ab44",
   "metadata": {},
   "outputs": [
    {
     "data": {
      "text/plain": [
       "2.4285714285714284"
      ]
     },
     "execution_count": 30,
     "metadata": {},
     "output_type": "execute_result"
    }
   ],
   "source": [
    "test5(2,3,4)"
   ]
  },
  {
   "cell_type": "code",
   "execution_count": 31,
   "id": "005ebd35-c166-410e-803e-8b723470b61a",
   "metadata": {},
   "outputs": [],
   "source": [
    "def test6(a,b):\n",
    "    return a+b"
   ]
  },
  {
   "cell_type": "code",
   "execution_count": 32,
   "id": "dd1288cc-1ac8-43a8-9b0c-be4e9c5d280c",
   "metadata": {},
   "outputs": [
    {
     "data": {
      "text/plain": [
       "7"
      ]
     },
     "execution_count": 32,
     "metadata": {},
     "output_type": "execute_result"
    }
   ],
   "source": [
    "test6(3,4)"
   ]
  },
  {
   "cell_type": "code",
   "execution_count": 35,
   "id": "d42771a6-342f-4d8d-a376-ccc30db1abf6",
   "metadata": {},
   "outputs": [
    {
     "data": {
      "text/plain": [
       "'rakesh pandey'"
      ]
     },
     "execution_count": 35,
     "metadata": {},
     "output_type": "execute_result"
    }
   ],
   "source": [
    "test6(\"rakesh\",\" pandey\")"
   ]
  },
  {
   "cell_type": "code",
   "execution_count": 36,
   "id": "8025c2fb-f1bd-4856-8ced-b919c28dea36",
   "metadata": {},
   "outputs": [
    {
     "data": {
      "text/plain": [
       "[2, 4, 4, 5, 6, 5, 7, 8, 4, 6]"
      ]
     },
     "execution_count": 36,
     "metadata": {},
     "output_type": "execute_result"
    }
   ],
   "source": [
    "test6([2,4,4,5,6],[5,7,8,4,6])"
   ]
  },
  {
   "cell_type": "code",
   "execution_count": 37,
   "id": "70c58dc6-e9b2-4d8f-8bc3-5ba0e4739c8b",
   "metadata": {},
   "outputs": [],
   "source": [
    "l = [1,2,3,4,\"rakesh\",\" pandey\",[1,2,3,4,5,6]]"
   ]
  },
  {
   "cell_type": "code",
   "execution_count": 38,
   "id": "bfaff4fc-9c89-41bf-9781-d7fca8ff554c",
   "metadata": {},
   "outputs": [],
   "source": [
    "l1 = []\n",
    "for i in l:\n",
    "    if type(i) == int or type(i) == float :\n",
    "        l1.append(i)"
   ]
  },
  {
   "cell_type": "code",
   "execution_count": 39,
   "id": "cedf4f24-1501-4a07-998d-8f593a469609",
   "metadata": {},
   "outputs": [
    {
     "data": {
      "text/plain": [
       "[1, 2, 3, 4]"
      ]
     },
     "execution_count": 39,
     "metadata": {},
     "output_type": "execute_result"
    }
   ],
   "source": [
    "l1"
   ]
  },
  {
   "cell_type": "code",
   "execution_count": 42,
   "id": "4396095b-f14a-47aa-a7f9-01907aad396e",
   "metadata": {},
   "outputs": [],
   "source": [
    "def test7(l):\n",
    "    l1 = []\n",
    "    for i in l :\n",
    "        if type(i) == int or type(i) == float :\n",
    "            l1.append(i)\n",
    "    return l1"
   ]
  },
  {
   "cell_type": "code",
   "execution_count": 43,
   "id": "fdb0e42a-4276-43c5-a43d-111ad88e23ce",
   "metadata": {},
   "outputs": [
    {
     "data": {
      "text/plain": [
       "[1, 2, 3, 4]"
      ]
     },
     "execution_count": 43,
     "metadata": {},
     "output_type": "execute_result"
    }
   ],
   "source": [
    "test7(l)"
   ]
  },
  {
   "cell_type": "code",
   "execution_count": 44,
   "id": "1ddc576a-a131-48dd-8f1d-e39981eb6073",
   "metadata": {},
   "outputs": [
    {
     "data": {
      "text/plain": [
       "[1, 2, 3, 4, 'rakesh', ' pandey', [1, 2, 3, 4, 5, 6]]"
      ]
     },
     "execution_count": 44,
     "metadata": {},
     "output_type": "execute_result"
    }
   ],
   "source": [
    "l"
   ]
  },
  {
   "cell_type": "code",
   "execution_count": 45,
   "id": "9ea770a3-f766-4f34-9237-fcde262bcad9",
   "metadata": {},
   "outputs": [],
   "source": [
    "def test8(a) :\n",
    "    l = []\n",
    "    for i in a :\n",
    "        if type(i) == list :\n",
    "            for j in i :\n",
    "                l.append(j)\n",
    "        else :\n",
    "            if type(i) == int or type(i) == float :\n",
    "                l.append(i)\n",
    "    return l"
   ]
  },
  {
   "cell_type": "code",
   "execution_count": 46,
   "id": "a6729322-1ab2-4f94-b08b-7c811f675723",
   "metadata": {},
   "outputs": [
    {
     "data": {
      "text/plain": [
       "[1, 2, 3, 4, 1, 2, 3, 4, 5, 6]"
      ]
     },
     "execution_count": 46,
     "metadata": {},
     "output_type": "execute_result"
    }
   ],
   "source": [
    "test8(l)"
   ]
  },
  {
   "cell_type": "code",
   "execution_count": 47,
   "id": "c3fb0194-49b8-4c97-8e39-70f78509f5cf",
   "metadata": {},
   "outputs": [
    {
     "data": {
      "text/plain": [
       "[1, 2, 3, 4, 'rakesh', ' pandey', [1, 2, 3, 4, 5, 6]]"
      ]
     },
     "execution_count": 47,
     "metadata": {},
     "output_type": "execute_result"
    }
   ],
   "source": [
    "l"
   ]
  },
  {
   "cell_type": "code",
   "execution_count": 48,
   "id": "89c1556c-9997-48c2-976e-18971406545b",
   "metadata": {},
   "outputs": [],
   "source": [
    "def test9(a) :\n",
    "    \"\"\"this is my function to extract\"\"\"\n",
    "    \n",
    "    l = []\n",
    "    for i in a :\n",
    "        if type(i) == list :\n",
    "            for j in i :\n",
    "                l.append(j)\n",
    "        else :\n",
    "            if type(i) == int or type(i) == float :\n",
    "                l.append(i)\n",
    "    return l"
   ]
  },
  {
   "cell_type": "code",
   "execution_count": 51,
   "id": "f1a1d3b0-b41e-431c-bbb8-d6028f4f237c",
   "metadata": {},
   "outputs": [
    {
     "data": {
      "text/plain": [
       "[1, 2, 3, 4, 1, 2, 3, 4, 5, 6]"
      ]
     },
     "execution_count": 51,
     "metadata": {},
     "output_type": "execute_result"
    }
   ],
   "source": [
    "test9(l)"
   ]
  },
  {
   "cell_type": "code",
   "execution_count": 52,
   "id": "ebbc4aca-0702-487d-a9e7-4509ab891078",
   "metadata": {},
   "outputs": [],
   "source": [
    "def test10(a,b):\n",
    "    return a+b"
   ]
  },
  {
   "cell_type": "code",
   "execution_count": 53,
   "id": "1ca5c69a-e368-405d-85e9-5a6a862e46bc",
   "metadata": {},
   "outputs": [],
   "source": [
    "def test11(*args) :\n",
    "    return args"
   ]
  },
  {
   "cell_type": "code",
   "execution_count": 54,
   "id": "a9d6da03-26e0-4f7b-aeab-b344798ca418",
   "metadata": {},
   "outputs": [
    {
     "data": {
      "text/plain": [
       "tuple"
      ]
     },
     "execution_count": 54,
     "metadata": {},
     "output_type": "execute_result"
    }
   ],
   "source": [
    "type(test11())"
   ]
  },
  {
   "cell_type": "code",
   "execution_count": 55,
   "id": "4381194b-9fe1-45dc-8229-12ff62915e36",
   "metadata": {},
   "outputs": [
    {
     "data": {
      "text/plain": [
       "(1, 4, 5)"
      ]
     },
     "execution_count": 55,
     "metadata": {},
     "output_type": "execute_result"
    }
   ],
   "source": [
    "test11(1,4,5,)"
   ]
  },
  {
   "cell_type": "code",
   "execution_count": 56,
   "id": "29b05a8b-e9a9-4dd4-9cdd-d542493a64b5",
   "metadata": {},
   "outputs": [
    {
     "data": {
      "text/plain": [
       "(3, 4, 5, 6)"
      ]
     },
     "execution_count": 56,
     "metadata": {},
     "output_type": "execute_result"
    }
   ],
   "source": [
    "test11(3,4,5,6)"
   ]
  },
  {
   "cell_type": "code",
   "execution_count": 59,
   "id": "72f69927-a203-45e6-af7e-6960357494cd",
   "metadata": {},
   "outputs": [],
   "source": [
    "def test12(*rke):\n",
    "    return rke"
   ]
  },
  {
   "cell_type": "code",
   "execution_count": 60,
   "id": "765a8315-985c-4014-ae9c-4c97f6f281fd",
   "metadata": {},
   "outputs": [
    {
     "data": {
      "text/plain": [
       "(1, 2, 3, 4, 5)"
      ]
     },
     "execution_count": 60,
     "metadata": {},
     "output_type": "execute_result"
    }
   ],
   "source": [
    "test12(1,2,3,4,5)"
   ]
  },
  {
   "cell_type": "code",
   "execution_count": 61,
   "id": "a967784e-dcd9-4ed6-92f1-ee3e380460e7",
   "metadata": {},
   "outputs": [],
   "source": [
    "def test13(*args, a) :\n",
    "    return args, a"
   ]
  },
  {
   "cell_type": "code",
   "execution_count": 63,
   "id": "96fdde76-6ea1-401b-930a-7bf12755bbcc",
   "metadata": {},
   "outputs": [
    {
     "data": {
      "text/plain": [
       "((1, 2, 3, 4), 23)"
      ]
     },
     "execution_count": 63,
     "metadata": {},
     "output_type": "execute_result"
    }
   ],
   "source": [
    "test13(1,2,3,4, a= 23)"
   ]
  },
  {
   "cell_type": "code",
   "execution_count": 65,
   "id": "faabaff4-31e0-4cbc-9558-df8ee4ebd1e9",
   "metadata": {},
   "outputs": [],
   "source": [
    "def test14(c,d,a = 23,b=1):\n",
    "    return a,b,c,d"
   ]
  },
  {
   "cell_type": "code",
   "execution_count": 67,
   "id": "7742436f-404a-4f05-b713-a1c2c1818dec",
   "metadata": {},
   "outputs": [
    {
     "data": {
      "text/plain": [
       "(23, 1, 23, 45)"
      ]
     },
     "execution_count": 67,
     "metadata": {},
     "output_type": "execute_result"
    }
   ],
   "source": [
    "test14(c =23,d=45)"
   ]
  },
  {
   "cell_type": "code",
   "execution_count": 68,
   "id": "89512291-9536-4a8b-9281-51ac8ecc7ff3",
   "metadata": {},
   "outputs": [
    {
     "data": {
      "text/plain": [
       "(3435, 1, 2, 3)"
      ]
     },
     "execution_count": 68,
     "metadata": {},
     "output_type": "execute_result"
    }
   ],
   "source": [
    "test14(2,3, a= 3435)"
   ]
  },
  {
   "cell_type": "code",
   "execution_count": 69,
   "id": "d21b2961-4cdb-44fd-ada4-7e52aa9ce8a0",
   "metadata": {},
   "outputs": [],
   "source": [
    "def test15(**kwargs):\n",
    "    return kwargs"
   ]
  },
  {
   "cell_type": "code",
   "execution_count": 70,
   "id": "a6330b0f-79cb-4c3c-8ab1-0a12276c1f01",
   "metadata": {},
   "outputs": [
    {
     "data": {
      "text/plain": [
       "{}"
      ]
     },
     "execution_count": 70,
     "metadata": {},
     "output_type": "execute_result"
    }
   ],
   "source": [
    "test15()"
   ]
  },
  {
   "cell_type": "code",
   "execution_count": 71,
   "id": "85020304-39de-401b-b433-8f00c1de2333",
   "metadata": {},
   "outputs": [
    {
     "data": {
      "text/plain": [
       "dict"
      ]
     },
     "execution_count": 71,
     "metadata": {},
     "output_type": "execute_result"
    }
   ],
   "source": [
    "type(test15())"
   ]
  },
  {
   "cell_type": "code",
   "execution_count": 72,
   "id": "97d2e596-5e69-47d0-8ddf-733495258d2f",
   "metadata": {},
   "outputs": [
    {
     "data": {
      "text/plain": [
       "{'a': [1, 2, 4, 5], 'b': 'rakesh', 'c': 23.45}"
      ]
     },
     "execution_count": 72,
     "metadata": {},
     "output_type": "execute_result"
    }
   ],
   "source": [
    "test15(a = [1,2,4,5],b=\"rakesh\", c= 23.45)"
   ]
  },
  {
   "cell_type": "code",
   "execution_count": null,
   "id": "3797006f-aa9e-411d-9f13-17f80690661e",
   "metadata": {},
   "outputs": [],
   "source": []
  }
 ],
 "metadata": {
  "kernelspec": {
   "display_name": "Python 3 (ipykernel)",
   "language": "python",
   "name": "python3"
  },
  "language_info": {
   "codemirror_mode": {
    "name": "ipython",
    "version": 3
   },
   "file_extension": ".py",
   "mimetype": "text/x-python",
   "name": "python",
   "nbconvert_exporter": "python",
   "pygments_lexer": "ipython3",
   "version": "3.10.8"
  }
 },
 "nbformat": 4,
 "nbformat_minor": 5
}
